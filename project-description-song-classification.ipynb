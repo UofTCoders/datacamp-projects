{
 "cells": [
  {
   "cell_type": "markdown",
   "metadata": {},
   "source": [
    "# FMA Song genre prediction\n",
    "\n",
    "# Read in the data\n",
    "\n",
    "Read in the song metadata as a pandas data frame."
   ]
  },
  {
   "cell_type": "code",
   "execution_count": 1,
   "metadata": {},
   "outputs": [
    {
     "name": "stdout",
     "output_type": "stream",
     "text": [
      "<class 'pandas.core.frame.DataFrame'>\n",
      "RangeIndex: 17734 entries, 0 to 17733\n",
      "Data columns (total 21 columns):\n",
      "track_id         17734 non-null int64\n",
      "bit_rate         17734 non-null int64\n",
      "comments         17734 non-null int64\n",
      "composer         166 non-null object\n",
      "date_created     17734 non-null object\n",
      "date_recorded    1898 non-null object\n",
      "duration         17734 non-null int64\n",
      "favorites        17734 non-null int64\n",
      "genre_top        17734 non-null object\n",
      "genres           17734 non-null object\n",
      "genres_all       17734 non-null object\n",
      "information      482 non-null object\n",
      "interest         17734 non-null int64\n",
      "language_code    4089 non-null object\n",
      "license          17714 non-null object\n",
      "listens          17734 non-null int64\n",
      "lyricist         53 non-null object\n",
      "number           17734 non-null int64\n",
      "publisher        52 non-null object\n",
      "tags             17734 non-null object\n",
      "title            17734 non-null object\n",
      "dtypes: int64(8), object(13)\n",
      "memory usage: 2.8+ MB\n"
     ]
    }
   ],
   "source": [
    "import pandas as pd\n",
    "\n",
    "tracks = pd.read_csv('./fma-rock-vs-hiphop.csv')\n",
    "tracks.info()"
   ]
  },
  {
   "cell_type": "code",
   "execution_count": 2,
   "metadata": {},
   "outputs": [],
   "source": [
    "# Students will remove NAs here"
   ]
  },
  {
   "cell_type": "markdown",
   "metadata": {},
   "source": [
    "# Read in the track metric data\n",
    "\n",
    "Read in the song metrics as a separate data frame. "
   ]
  },
  {
   "cell_type": "code",
   "execution_count": 3,
   "metadata": {},
   "outputs": [
    {
     "name": "stdout",
     "output_type": "stream",
     "text": [
      "<class 'pandas.core.frame.DataFrame'>\n",
      "RangeIndex: 13129 entries, 0 to 13128\n",
      "Data columns (total 9 columns):\n",
      "acousticness        13129 non-null float64\n",
      "danceability        13129 non-null float64\n",
      "energy              13129 non-null float64\n",
      "instrumentalness    13129 non-null float64\n",
      "liveness            13129 non-null float64\n",
      "speechiness         13129 non-null float64\n",
      "tempo               13129 non-null float64\n",
      "track_id            13129 non-null int64\n",
      "valence             13129 non-null float64\n",
      "dtypes: float64(8), int64(1)\n",
      "memory usage: 923.2 KB\n"
     ]
    }
   ],
   "source": [
    "# track_metrics = pd.read_csv('./echonest-clean.csv')\n",
    "track_metrics = pd.read_json('./echonest-clean.json', precise_float=True)\n",
    "track_metrics.info()"
   ]
  },
  {
   "cell_type": "markdown",
   "metadata": {},
   "source": [
    "## Merge data frames\n",
    "\n",
    "Merge the two data frames together using the `track_id` column as the row identifier."
   ]
  },
  {
   "cell_type": "code",
   "execution_count": 12,
   "metadata": {},
   "outputs": [
    {
     "data": {
      "text/html": [
       "<div>\n",
       "<style scoped>\n",
       "    .dataframe tbody tr th:only-of-type {\n",
       "        vertical-align: middle;\n",
       "    }\n",
       "\n",
       "    .dataframe tbody tr th {\n",
       "        vertical-align: top;\n",
       "    }\n",
       "\n",
       "    .dataframe thead th {\n",
       "        text-align: right;\n",
       "    }\n",
       "</style>\n",
       "<table border=\"1\" class=\"dataframe\">\n",
       "  <thead>\n",
       "    <tr style=\"text-align: right;\">\n",
       "      <th></th>\n",
       "      <th>acousticness</th>\n",
       "      <th>danceability</th>\n",
       "      <th>energy</th>\n",
       "      <th>instrumentalness</th>\n",
       "      <th>liveness</th>\n",
       "      <th>speechiness</th>\n",
       "      <th>tempo</th>\n",
       "      <th>track_id</th>\n",
       "      <th>valence</th>\n",
       "      <th>genre_top</th>\n",
       "      <th>title</th>\n",
       "    </tr>\n",
       "  </thead>\n",
       "  <tbody>\n",
       "    <tr>\n",
       "      <th>0</th>\n",
       "      <td>0.416675</td>\n",
       "      <td>0.675894</td>\n",
       "      <td>0.634476</td>\n",
       "      <td>0.010628</td>\n",
       "      <td>0.177647</td>\n",
       "      <td>0.159310</td>\n",
       "      <td>165.922</td>\n",
       "      <td>2</td>\n",
       "      <td>0.576661</td>\n",
       "      <td>Hip-Hop</td>\n",
       "      <td>Food</td>\n",
       "    </tr>\n",
       "    <tr>\n",
       "      <th>1</th>\n",
       "      <td>0.374408</td>\n",
       "      <td>0.528643</td>\n",
       "      <td>0.817461</td>\n",
       "      <td>0.001851</td>\n",
       "      <td>0.105880</td>\n",
       "      <td>0.461818</td>\n",
       "      <td>126.957</td>\n",
       "      <td>3</td>\n",
       "      <td>0.269240</td>\n",
       "      <td>Hip-Hop</td>\n",
       "      <td>Electric Ave</td>\n",
       "    </tr>\n",
       "    <tr>\n",
       "      <th>2</th>\n",
       "      <td>0.043567</td>\n",
       "      <td>0.745566</td>\n",
       "      <td>0.701470</td>\n",
       "      <td>0.000697</td>\n",
       "      <td>0.373143</td>\n",
       "      <td>0.124595</td>\n",
       "      <td>100.260</td>\n",
       "      <td>5</td>\n",
       "      <td>0.621661</td>\n",
       "      <td>Hip-Hop</td>\n",
       "      <td>This World</td>\n",
       "    </tr>\n",
       "    <tr>\n",
       "      <th>3</th>\n",
       "      <td>0.452217</td>\n",
       "      <td>0.513238</td>\n",
       "      <td>0.560410</td>\n",
       "      <td>0.019443</td>\n",
       "      <td>0.096567</td>\n",
       "      <td>0.525519</td>\n",
       "      <td>114.290</td>\n",
       "      <td>134</td>\n",
       "      <td>0.894072</td>\n",
       "      <td>Hip-Hop</td>\n",
       "      <td>Street Music</td>\n",
       "    </tr>\n",
       "    <tr>\n",
       "      <th>4</th>\n",
       "      <td>0.988306</td>\n",
       "      <td>0.255661</td>\n",
       "      <td>0.979774</td>\n",
       "      <td>0.973006</td>\n",
       "      <td>0.121342</td>\n",
       "      <td>0.051740</td>\n",
       "      <td>90.241</td>\n",
       "      <td>153</td>\n",
       "      <td>0.034018</td>\n",
       "      <td>Rock</td>\n",
       "      <td>Hundred-Year Flood</td>\n",
       "    </tr>\n",
       "  </tbody>\n",
       "</table>\n",
       "</div>"
      ],
      "text/plain": [
       "   acousticness  danceability    energy  instrumentalness  liveness  \\\n",
       "0      0.416675      0.675894  0.634476          0.010628  0.177647   \n",
       "1      0.374408      0.528643  0.817461          0.001851  0.105880   \n",
       "2      0.043567      0.745566  0.701470          0.000697  0.373143   \n",
       "3      0.452217      0.513238  0.560410          0.019443  0.096567   \n",
       "4      0.988306      0.255661  0.979774          0.973006  0.121342   \n",
       "\n",
       "   speechiness    tempo  track_id   valence genre_top               title  \n",
       "0     0.159310  165.922         2  0.576661   Hip-Hop                Food  \n",
       "1     0.461818  126.957         3  0.269240   Hip-Hop        Electric Ave  \n",
       "2     0.124595  100.260         5  0.621661   Hip-Hop          This World  \n",
       "3     0.525519  114.290       134  0.894072   Hip-Hop        Street Music  \n",
       "4     0.051740   90.241       153  0.034018      Rock  Hundred-Year Flood  "
      ]
     },
     "execution_count": 12,
     "metadata": {},
     "output_type": "execute_result"
    }
   ],
   "source": [
    "echo_tracks = pd.merge(track_metrics, tracks[['genre_top', 'title', 'track_id']], on='track_id')\n",
    "echo_tracks.head()"
   ]
  },
  {
   "cell_type": "code",
   "execution_count": 13,
   "metadata": {},
   "outputs": [],
   "source": [
    "# Students will make a correlation matrix to explore if there are correlated variables"
   ]
  },
  {
   "cell_type": "markdown",
   "metadata": {},
   "source": [
    "## PCA and visualization\n",
    "\n",
    "Possibly the variance between genres could be explained largely by just a few variables in the data set. To find these, a commonly used dimensionality reduction approach is Principal Component Analysis (PCA), which rotates the data along the axis of highest variance and allows for visualization in lower dimensions.\n",
    "\n",
    "First preprocess the data by assigning all numerical features into the `features` variable and the genres into the `labels` variable.\n",
    "\n",
    "Use PCA to find out the intrinsic number of dimensions for the data, and visualize the results in a bar plot with the explained variance on the y-axis."
   ]
  },
  {
   "cell_type": "code",
   "execution_count": 14,
   "metadata": {},
   "outputs": [
    {
     "data": {
      "text/plain": [
       "<BarContainer object of 8 artists>"
      ]
     },
     "execution_count": 14,
     "metadata": {},
     "output_type": "execute_result"
    },
    {
     "data": {
      "image/png": "[encoded data removed]",
      "text/plain": [
       "<Figure size 432x288 with 1 Axes>"
      ]
     },
     "metadata": {},
     "output_type": "display_data"
    }
   ],
   "source": [
    "%matplotlib inline\n",
    "from sklearn.decomposition import PCA\n",
    "import matplotlib.pyplot as plt\n",
    "\n",
    "features = echo_tracks.drop(['genre_top', 'title', 'track_id'], axis=1) \n",
    "labels = echo_tracks['genre_top']\n",
    "\n",
    "pca = PCA()\n",
    "pca.fit(features)\n",
    "\n",
    "fig, ax = plt.subplots()\n",
    "x = range(len(pca.explained_variance_))\n",
    "y = pca.explained_variance_ratio_\n",
    "ax.bar(x, y)"
   ]
  },
  {
   "cell_type": "markdown",
   "metadata": {},
   "source": [
    "The variance in the data seems to be almost exclusively explained by just a single variable... Remember that PCA uses the *absolute* variance of the variable to rotate the data. Explore what the variance is for the different columns, perform a suitable scaling of the data if needed, and plot the result in a scree plot as above."
   ]
  },
  {
   "cell_type": "code",
   "execution_count": 15,
   "metadata": {},
   "outputs": [
    {
     "name": "stdout",
     "output_type": "stream",
     "text": [
      "acousticness           0.135527\n",
      "danceability           0.033673\n",
      "energy                 0.059561\n",
      "instrumentalness       0.141743\n",
      "liveness               0.022669\n",
      "speechiness            0.021297\n",
      "tempo               1156.168148\n",
      "valence                0.071093\n",
      "dtype: float64\n"
     ]
    },
    {
     "data": {
      "text/plain": [
       "<BarContainer object of 8 artists>"
      ]
     },
     "execution_count": 15,
     "metadata": {},
     "output_type": "execute_result"
    },
    {
     "data": {
      "image/png": "[encoded data removed]",
      "text/plain": [
       "<Figure size 432x288 with 1 Axes>"
      ]
     },
     "metadata": {},
     "output_type": "display_data"
    }
   ],
   "source": [
    "feature_variance = features.var()\n",
    "print(feature_variance)\n",
    "\n",
    "from sklearn.preprocessing import StandardScaler\n",
    "\n",
    "scaler = StandardScaler()\n",
    "scaled_train_features = scaler.fit_transform(features)\n",
    "\n",
    "pca = PCA()\n",
    "pca.fit(scaled_train_features)\n",
    "\n",
    "fig, ax = plt.subplots()\n",
    "x = range(len(pca.explained_variance_))\n",
    "y = pca.explained_variance_ratio_\n",
    "ax.bar(x, y)"
   ]
  },
  {
   "cell_type": "markdown",
   "metadata": {},
   "source": [
    "Unfortunately, there does not appear to be a clear elbow point in this plot, so it is not straightforward to find the number of intrinsic dimensions for this data. However, we can still visualize the data using the top 2 PCs. "
   ]
  },
  {
   "cell_type": "code",
   "execution_count": 16,
   "metadata": {},
   "outputs": [],
   "source": [
    "# Students will visualize the data in two dimensions with a scatter plot."
   ]
  },
  {
   "cell_type": "markdown",
   "metadata": {},
   "source": [
    "## Compare the predictive power of logistic regression and a decision tree\n",
    "\n",
    "After using PCA to visualize and qualitatively inspect the data, it is now time to make quantitative predictions about the genres of the missing songs. There are many algorithm that could perform well on this type of task. Here, we will try a couple of common algorithms.\n",
    "\n",
    "The first algorithm will be a decision tree. Start by splitting the data into a train and test set, and then train a decision tree classifier on the training data."
   ]
  },
  {
   "cell_type": "code",
   "execution_count": 10,
   "metadata": {},
   "outputs": [
    {
     "data": {
      "text/plain": [
       "0.8692756036636137"
      ]
     },
     "execution_count": 10,
     "metadata": {},
     "output_type": "execute_result"
    }
   ],
   "source": [
    "from sklearn.model_selection import train_test_split\n",
    "\n",
    "train_features, test_features, train_labels, test_labels = train_test_split(\n",
    "    features, labels, random_state=10)\n",
    "\n",
    "from sklearn.tree import DecisionTreeClassifier\n",
    "\n",
    "tree = DecisionTreeClassifier(random_state=10)\n",
    "tree.fit(train_features, train_labels)\n",
    "tree.score(test_features, test_labels)"
   ]
  },
  {
   "cell_type": "code",
   "execution_count": 11,
   "metadata": {},
   "outputs": [],
   "source": [
    "# Students will do the same with a logistic regression classifier and compare the \n",
    "# results using a classification report and also experience the pitfalls of learning\n",
    "# on unbalanced data."
   ]
  }
 ],
 "metadata": {
  "kernelspec": {
   "display_name": "Python 3",
   "language": "python",
   "name": "python3"
  },
  "language_info": {
   "codemirror_mode": {
    "name": "ipython",
    "version": 3
   },
   "file_extension": ".py",
   "mimetype": "text/x-python",
   "name": "python",
   "nbconvert_exporter": "python",
   "pygments_lexer": "ipython3",
   "version": "3.6.5"
  }
 },
 "nbformat": 4,
 "nbformat_minor": 2
}
